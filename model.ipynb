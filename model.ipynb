{
 "cells": [
  {
   "cell_type": "code",
   "execution_count": 111,
   "id": "df1969da",
   "metadata": {},
   "outputs": [],
   "source": [
    "import numpy as np\n",
    "import pandas as pd\n",
    "import matplotlib.pyplot as plt\n",
    "import copy\n"
   ]
  },
  {
   "cell_type": "code",
   "execution_count": 112,
   "id": "6b45c7a0",
   "metadata": {},
   "outputs": [],
   "source": [
    "df=pd.read_csv('train.csv/train.csv')"
   ]
  },
  {
   "cell_type": "code",
   "execution_count": 113,
   "id": "887e661a",
   "metadata": {},
   "outputs": [],
   "source": [
    "labels=df[\"label\"].values\n",
    "pixel_data = df.drop('label', axis=1).values\n",
    "images = pixel_data.reshape(-1, 28, 28)"
   ]
  },
  {
   "cell_type": "code",
   "execution_count": 114,
   "id": "6e0449be",
   "metadata": {},
   "outputs": [
    {
     "data": {
      "image/png": "[encoded data removed]",
      "text/plain": [
       "<Figure size 640x480 with 1 Axes>"
      ]
     },
     "metadata": {},
     "output_type": "display_data"
    }
   ],
   "source": [
    "image=images[1]\n",
    "label=labels[1]\n",
    "plt.imshow(image,cmap='gray')\n",
    "plt.title(f'Label: {label}')\n",
    "plt.axis('off')\n",
    "plt.show()"
   ]
  },
  {
   "cell_type": "code",
   "execution_count": 115,
   "id": "3454854b",
   "metadata": {},
   "outputs": [],
   "source": [
    "labels = labels.reshape(42000, 1)\n",
    "images_flattened = images.reshape(-1, 28 * 28)\n",
    "data = np.hstack((labels, images_flattened))\n",
    "np.random.shuffle(data)\n",
    "split_ratio = 0.8 \n",
    "num_examples = data.shape[0]\n",
    "num_train = int(split_ratio * num_examples)\n",
    "train_set = data[:num_train]\n",
    "test_set = data[num_train:]\n",
    "X_train = train_set[:, 1:].T\n",
    "y_train = train_set[:, 0].T\n",
    "X_test = test_set[:, 1:].T\n",
    "y_test = test_set[:, 0].T"
   ]
  },
  {
   "cell_type": "code",
   "execution_count": 116,
   "id": "28bd6c56",
   "metadata": {},
   "outputs": [
    {
     "name": "stdout",
     "output_type": "stream",
     "text": [
      "Training set features shape: (784, 33600)\n",
      "Training set labels shape: (33600,)\n",
      "Testing set features shape: (784, 8400)\n",
      "Testing set labels shape: (8400,)\n"
     ]
    }
   ],
   "source": [
    "print(\"Training set features shape:\", X_train.shape)\n",
    "print(\"Training set labels shape:\", y_train.shape)\n",
    "print(\"Testing set features shape:\", X_test.shape)\n",
    "print(\"Testing set labels shape:\", y_test.shape)"
   ]
  },
  {
   "cell_type": "code",
   "execution_count": 117,
   "id": "aeca9b41",
   "metadata": {},
   "outputs": [
    {
     "name": "stdout",
     "output_type": "stream",
     "text": [
      "X_train shape: (784, 33600)\n",
      "X_test shape: (784, 8400)\n"
     ]
    }
   ],
   "source": [
    "X_train,X_test=X_train/255.0,X_test/255.0\n",
    "print(\"X_train shape:\", X_train.shape)\n",
    "print(\"X_test shape:\", X_test.shape)"
   ]
  },
  {
   "cell_type": "code",
   "execution_count": 118,
   "id": "1c2a0900",
   "metadata": {},
   "outputs": [
    {
     "name": "stdout",
     "output_type": "stream",
     "text": [
      "One-hot encoded y_train shape: (10, 33600)\n",
      "One-hot encoded y_test shape: (10, 8400)\n"
     ]
    }
   ],
   "source": [
    "y_train_series = pd.Series(y_train)\n",
    "y_test_series = pd.Series(y_test)\n",
    "\n",
    "y_train_encoded = pd.get_dummies(y_train_series)\n",
    "y_test_encoded = pd.get_dummies(y_test_series)\n",
    "\n",
    "y_train_encoded_np = y_train_encoded.values.T\n",
    "y_test_encoded_np = y_test_encoded.values.T\n",
    "\n",
    "print(\"One-hot encoded y_train shape:\", y_train_encoded_np.shape)\n",
    "print(\"One-hot encoded y_test shape:\", y_test_encoded_np.shape)"
   ]
  },
  {
   "cell_type": "code",
   "execution_count": null,
   "id": "63ba9ac8",
   "metadata": {},
   "outputs": [],
   "source": [
    "def initialize_parameters(layer_dims):\n",
    "    np.random.seed(1)   \n",
    "    parameters = {}\n",
    "    L = len(layer_dims)\n",
    "\n",
    "    for l in range(1, L):\n",
    "        # He initialization for ReLU layers\n",
    "        parameters['W' + str(l)] = (np.random.randn(layer_dims[l], layer_dims[l-1]) *\n",
    "                                    np.sqrt(2.0 / layer_dims[l-1]))\n",
    "        parameters['b' + str(l)] = np.zeros((layer_dims[l], 1))\n",
    "\n",
    "    return parameters\n"
   ]
  },
  {
   "cell_type": "code",
   "execution_count": 120,
   "id": "7f134dd2",
   "metadata": {},
   "outputs": [],
   "source": [
    "def initialize_adam(parameters):\n",
    "    L=len(parameters)//2\n",
    "    v={}\n",
    "    s={}\n",
    "    for l in range(1,L+1):\n",
    "        v[\"dW\"+str(l)]=np.zeros(parameters[\"W\"+str(l)].shape)\n",
    "        v[\"db\"+str(l)]=np.zeros(parameters[\"b\"+str(l)].shape)\n",
    "        s[\"dW\"+str(l)]=np.zeros(parameters[\"W\"+str(l)].shape)\n",
    "        s[\"db\"+str(l)]=np.zeros(parameters[\"b\"+str(l)].shape)\n",
    "    return v,s                   "
   ]
  },
  {
   "cell_type": "code",
   "execution_count": 121,
   "id": "1e62dd92",
   "metadata": {},
   "outputs": [],
   "source": [
    "def create_minibatches(X,Y,mini_batch_size,seed):\n",
    "    np.random.seed(seed)\n",
    "    m=X.shape[1]\n",
    "    mini_batches=[]\n",
    "    permutation=list(np.random.permutation(m))\n",
    "    shuffled_X=X[:,permutation]\n",
    "    shuffled_Y=Y[:,permutation].reshape(10,m)\n",
    "\n",
    "    inc=mini_batch_size\n",
    "\n",
    "    complete_mini_batches=m//mini_batch_size\n",
    "    for k in range(0,complete_mini_batches):\n",
    "        mini_batch_X=shuffled_X[:,k*inc:(k+1)*inc]\n",
    "        mini_batch_Y=shuffled_Y[:,k*inc:(k+1)*inc]\n",
    "        mini_batch=(mini_batch_X,mini_batch_Y)\n",
    "        mini_batches.append(mini_batch)\n",
    "\n",
    "    if m%mini_batch_size!=0:\n",
    "        mini_batch_X=shuffled_X[:,complete_mini_batches*inc:m]\n",
    "        mini_batch_Y=shuffled_Y[:,complete_mini_batches*inc:m]\n",
    "        mini_batch=(mini_batch_X,mini_batch_Y)\n",
    "        mini_batches.append(mini_batch)\n",
    "    return mini_batches    \n"
   ]
  },
  {
   "cell_type": "code",
   "execution_count": 122,
   "id": "8466d476",
   "metadata": {},
   "outputs": [],
   "source": [
    "def relu(Z):\n",
    "    A=np.maximum(0,Z)\n",
    "    return A,Z"
   ]
  },
  {
   "cell_type": "code",
   "execution_count": 123,
   "id": "fb7b3d15",
   "metadata": {},
   "outputs": [],
   "source": [
    "def softmax(Z):\n",
    "    expZ = np.exp(Z - np.max(Z, axis=0, keepdims=True))  # stability trick\n",
    "    return expZ / np.sum(expZ, axis=0, keepdims=True), Z\n"
   ]
  },
  {
   "cell_type": "code",
   "execution_count": 124,
   "id": "15dd7dc0",
   "metadata": {},
   "outputs": [],
   "source": [
    "def linear_forward(A_prev,W,b):\n",
    "    Z=np.dot(W,A_prev)+b\n",
    "    cache=(A_prev,W,b)\n",
    "    return Z,cache"
   ]
  },
  {
   "cell_type": "markdown",
   "id": "09051141",
   "metadata": {},
   "source": [
    "activation_cache consists of values of Z and linear_cache consists of values A_prev,W,b"
   ]
  },
  {
   "cell_type": "code",
   "execution_count": 125,
   "id": "eb9187f9",
   "metadata": {},
   "outputs": [],
   "source": [
    "def linear_activation_forward(A_prev,W,b,activation,keep_prob=0.8):\n",
    "    Z,linear_cache=linear_forward(A_prev,W,b)\n",
    "    if activation=='relu':\n",
    "        A,activation_cache=relu(Z)\n",
    "    elif activation==\"softmax\":\n",
    "        A,activation_cache=softmax(Z)\n",
    "    D=None\n",
    "    if keep_prob<1.0 and activation=='relu':\n",
    "        D=np.random.rand(*A.shape)<keep_prob\n",
    "        A=A*D\n",
    "        A=A/keep_prob\n",
    "    cache=(linear_cache,activation_cache,D)\n",
    "    return A,cache"
   ]
  },
  {
   "cell_type": "code",
   "execution_count": 126,
   "id": "05305acf",
   "metadata": {},
   "outputs": [],
   "source": [
    "def model_forward(X,parameters):\n",
    "    caches=[]\n",
    "    A=X\n",
    "    L=len(parameters)//2\n",
    "    for l in range(1,L):\n",
    "        A_prev=A\n",
    "        A,cache=linear_activation_forward(A_prev,parameters['W'+str(l)],parameters['b'+str(l)],\"relu\")\n",
    "        caches.append(cache)\n",
    "    AL,cache=linear_activation_forward(A,parameters['W'+str(L)],parameters['b'+str(L)],\"softmax\")\n",
    "    caches.append(cache)\n",
    "    return AL,caches"
   ]
  },
  {
   "cell_type": "code",
   "execution_count": null,
   "id": "592d97b9",
   "metadata": {},
   "outputs": [],
   "source": [
    "def compute_cost(AL, Y,parameters,lambd=1e-4):\n",
    "    m = Y.shape[1]\n",
    "    cost = - (1/m) * np.sum(Y * np.log(AL + 1e-8))   \n",
    "    L=len(parameters)//2\n",
    "    L2_term=0\n",
    "    for l in range(1,L+1):\n",
    "        L2_term+=np.sum(np.square(parameters['W'+str(l)]))\n",
    "    L2_term=(lambd/(2*m))*L2_term    \n",
    "    return np.squeeze(cost+L2_term)\n"
   ]
  },
  {
   "cell_type": "code",
   "execution_count": 128,
   "id": "0e3fb078",
   "metadata": {},
   "outputs": [],
   "source": [
    "def relu_backward(dA,activation_cache):\n",
    "    Z=activation_cache\n",
    "    dZ=np.array(dA,copy=True)\n",
    "    dZ[Z<=0]=0\n",
    "    return dZ"
   ]
  },
  {
   "cell_type": "code",
   "execution_count": 129,
   "id": "9c72aea3",
   "metadata": {},
   "outputs": [],
   "source": [
    "def linear_backward(dZ,cache,lambd=1e-4):\n",
    "    A_prev,W,b=cache\n",
    "    m=A_prev.shape[1]\n",
    "    dW=(1/m)*np.dot(dZ,A_prev.T)+(lambd/m)*W\n",
    "    db=(1/m)*np.sum(dZ,axis=1,keepdims=True)\n",
    "    dA_prev=np.dot(W.T,dZ)\n",
    "    return dA_prev,dW,db"
   ]
  },
  {
   "cell_type": "code",
   "execution_count": 130,
   "id": "2593a0f2",
   "metadata": {},
   "outputs": [],
   "source": [
    "def linear_activation_backward(dA,cache,AL,Y,activation,keep_prob=0.8):\n",
    "    linear_cache,activation_cache,D=cache\n",
    "    if keep_prob<1.0:\n",
    "        dA=dA*D\n",
    "        dA=dA/keep_prob\n",
    "    if activation==\"relu\":\n",
    "        dZ=relu_backward(dA,activation_cache)\n",
    "    dA_prev,dW,db=linear_backward(dZ,linear_cache)\n",
    "    return dA_prev,dW,db    "
   ]
  },
  {
   "cell_type": "code",
   "execution_count": 131,
   "id": "cbcb2848",
   "metadata": {},
   "outputs": [],
   "source": [
    "def model_backward(AL,Y,caches):\n",
    "    grads={}\n",
    "    L=len(caches)\n",
    "    Y=Y.reshape(AL.shape)\n",
    "    dZL=AL-Y\n",
    "    current_cache=caches[L-1]\n",
    "    dA_prev,dW,db=linear_backward(dZL,current_cache[0])\n",
    "    grads[\"dA\"+str(L-1)]=dA_prev\n",
    "    grads[\"dW\"+str(L)]=dW\n",
    "    grads[\"db\"+str(L)]=db\n",
    "\n",
    "    for l in reversed(range(L-1)):\n",
    "        current_cache=caches[l]\n",
    "        dA_prev,dW,db=linear_activation_backward(grads[\"dA\"+str(l+1)],current_cache,AL,Y,\"relu\")\n",
    "        grads[\"dA\"+str(l)]=dA_prev\n",
    "        grads[\"dW\"+str(l+1)]=dW\n",
    "        grads[\"db\"+str(l+1)]=db\n",
    "\n",
    "    return grads    "
   ]
  },
  {
   "cell_type": "code",
   "execution_count": 132,
   "id": "93d262a3",
   "metadata": {},
   "outputs": [],
   "source": [
    "def update_parameters_with_adam(params,grads,learning_rate,v,s,t,beta1=0.9,beta2=0.999,epsilon=1e-8):\n",
    "\n",
    "    parameters=copy.deepcopy(params)\n",
    "    L=len(parameters)//2 # number of layers\n",
    "    v_corrected={}\n",
    "    s_corrected={}\n",
    "    for l in range(1,L+1):       # as W is a matrix which contains all the weights for a particular layer and W1,W2,... represents W matrix for a particular layer, here for layer [1] and layer [2].\n",
    "        v[\"dW\" + str(l)] = beta1 * v[\"dW\" + str(l)] + (1 - beta1) * grads[\"dW\" + str(l)]\n",
    "        v[\"db\" + str(l)] = beta1 * v[\"db\" + str(l)] + (1 - beta1) * grads[\"db\" + str(l)]\n",
    "        v_corrected[\"dW\" + str(l)] = v[\"dW\" + str(l)] / (1 - beta1 ** t)\n",
    "        v_corrected[\"db\" + str(l)] = v[\"db\" + str(l)] / (1 - beta1 ** t)\n",
    "        s[\"dW\" + str(l)] = beta2 * s[\"dW\" + str(l)] + (1 - beta2) * (grads[\"dW\" + str(l)] ** 2)\n",
    "        s[\"db\" + str(l)] = beta2 * s[\"db\" + str(l)] + (1 - beta2) * (grads[\"db\" + str(l)] ** 2)\n",
    "        s_corrected[\"dW\" + str(l)] = s[\"dW\" + str(l)] / (1 - beta2 ** t)\n",
    "        s_corrected[\"db\" + str(l)] = s[\"db\" + str(l)] / (1 - beta2 ** t)\n",
    "        parameters[\"W\" + str(l)] = parameters[\"W\" + str(l)] - learning_rate * v_corrected[\"dW\" + str(l)] / (np.sqrt(s_corrected[\"dW\" + str(l)]) + epsilon)\n",
    "        parameters[\"b\" + str(l)] = parameters[\"b\" + str(l)] - learning_rate * v_corrected[\"db\" + str(l)] / (np.sqrt(s_corrected[\"db\" + str(l)]) + epsilon)\n",
    "\n",
    "    return parameters,v,s\n",
    "    "
   ]
  },
  {
   "cell_type": "code",
   "execution_count": 135,
   "id": "b7206850",
   "metadata": {},
   "outputs": [],
   "source": [
    "def model(X,Y,layer_dims,learning_rate,num_epochs,mini_batch_size,print_cost):\n",
    "    costs=[]\n",
    "    parameters=initialize_parameters(layer_dims)\n",
    "    v,s=initialize_adam(parameters)\n",
    "    t=0\n",
    "    m=X.shape[1]\n",
    "    for epoch in range(num_epochs):\n",
    "        mini_batches=create_minibatches(X,Y,mini_batch_size,seed=epoch)\n",
    "        for minibatch in mini_batches:\n",
    "            (minibatch_X,minibatch_Y)=minibatch\n",
    "            AL,caches=model_forward(minibatch_X,parameters)\n",
    "            cost=compute_cost(AL,minibatch_Y,parameters)\n",
    "            grads=model_backward(AL,minibatch_Y,caches)\n",
    "            t+=1\n",
    "            parameters,v,s=update_parameters_with_adam(parameters,grads,learning_rate,v,s,t)\n",
    "\n",
    "        if print_cost and (epoch%1==0):\n",
    "            print(f\"Cost after epoch {epoch}: {np.squeeze(cost)}\")\n",
    "            costs.append(cost)\n",
    "    return parameters,costs    "
   ]
  },
  {
   "cell_type": "code",
   "execution_count": 136,
   "id": "30ffe55b",
   "metadata": {},
   "outputs": [
    {
     "name": "stdout",
     "output_type": "stream",
     "text": [
      "Cost after epoch 0: 0.23641815975355512\n",
      "Cost after epoch 1: 0.2089385214742737\n",
      "Cost after epoch 2: 0.02989700505039775\n",
      "Cost after epoch 3: 0.1465833353275288\n",
      "Cost after epoch 4: 0.19034635222434435\n",
      "Cost after epoch 5: 0.024800839464125986\n",
      "Cost after epoch 6: 0.10125714387900851\n",
      "Cost after epoch 7: 0.009159161048578427\n",
      "Cost after epoch 8: 0.017914389857110913\n",
      "Cost after epoch 9: 0.01264776126629726\n",
      "Cost after epoch 10: 0.11417823504108415\n",
      "Cost after epoch 11: 0.1735268296586493\n",
      "Cost after epoch 12: 0.02590538456976806\n",
      "Cost after epoch 13: 0.00624702125636072\n",
      "Cost after epoch 14: 0.002431094938804476\n",
      "Cost after epoch 15: 0.0037100725397123642\n",
      "Cost after epoch 16: 0.0223173951357667\n",
      "Cost after epoch 17: 0.01916323739805978\n",
      "Cost after epoch 18: 0.013357906175175382\n",
      "Cost after epoch 19: 0.05488708225294749\n"
     ]
    }
   ],
   "source": [
    "layers_dims = [784, 256, 128, 64, 10]\n",
    "\n",
    "parameters,costs=model(X_train,y_train_encoded_np,layers_dims,learning_rate=0.001,num_epochs=20,mini_batch_size=128,print_cost=True)"
   ]
  },
  {
   "cell_type": "code",
   "execution_count": null,
   "id": "685331f8",
   "metadata": {},
   "outputs": [
    {
     "name": "stdout",
     "output_type": "stream",
     "text": [
      "Train set accuracy: 99.02%\n",
      "Test set accuracy: 96.95%\n"
     ]
    }
   ],
   "source": [
    "def predict(X, parameters, Y=None):\n",
    "    AL, _ = model_forward(X, parameters)   # AL shape = (n_y, m)\n",
    "    \n",
    "    predictions = np.argmax(AL, axis=0)    # shape = (m,)\n",
    "    \n",
    "    if Y is not None:\n",
    "        true_labels = np.argmax(Y, axis=0)   \n",
    "        accuracy = np.mean(predictions == true_labels) * 100\n",
    "        return predictions, accuracy\n",
    "    else:\n",
    "        return predictions\n",
    "predictions, accuracy = predict(X_train, parameters, y_train_encoded_np)\n",
    "print(f\"Train set accuracy: {accuracy:.2f}%\")\n",
    "predictions, accuracy = predict(X_test, parameters, y_test_encoded_np)\n",
    "print(f\"Test set accuracy: {accuracy:.2f}%\")"
   ]
  },
  {
   "cell_type": "code",
   "execution_count": 138,
   "id": "09e9e030",
   "metadata": {},
   "outputs": [
    {
     "data": {
      "image/png": "[encoded data removed]",
      "text/plain": [
       "<Figure size 640x480 with 1 Axes>"
      ]
     },
     "metadata": {},
     "output_type": "display_data"
    }
   ],
   "source": [
    "def plot_costs(costs, learning_rate):\n",
    "    \"\"\"\n",
    "    Plot the learning curve (cost vs iterations).\n",
    "    \n",
    "    Arguments:\n",
    "    costs -- list of costs recorded during training\n",
    "    learning_rate -- learning rate used (for labeling the plot)\n",
    "    \"\"\"\n",
    "    plt.plot(costs)\n",
    "    plt.ylabel('Cost')\n",
    "    plt.xlabel('Iterations (per hundreds)')\n",
    "    plt.title(f'Learning rate = {learning_rate}')\n",
    "    plt.grid(True)\n",
    "    plt.show()\n",
    "plot_costs(costs, learning_rate=0.001)"
   ]
  },
  {
   "cell_type": "code",
   "execution_count": null,
   "id": "ecfb281d",
   "metadata": {},
   "outputs": [],
   "source": []
  }
 ],
 "metadata": {
  "kernelspec": {
   "display_name": "base",
   "language": "python",
   "name": "python3"
  },
  "language_info": {
   "codemirror_mode": {
    "name": "ipython",
    "version": 3
   },
   "file_extension": ".py",
   "mimetype": "text/x-python",
   "name": "python",
   "nbconvert_exporter": "python",
   "pygments_lexer": "ipython3",
   "version": "3.13.5"
  }
 },
 "nbformat": 4,
 "nbformat_minor": 5
}
